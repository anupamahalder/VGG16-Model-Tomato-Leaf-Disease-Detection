{
 "cells": [
  {
   "cell_type": "markdown",
   "id": "efbce1f2",
   "metadata": {
    "papermill": {
     "duration": 0.008651,
     "end_time": "2024-05-14T15:26:12.194649",
     "exception": false,
     "start_time": "2024-05-14T15:26:12.185998",
     "status": "completed"
    },
    "tags": []
   },
   "source": [
    "# 1. Import Libraries:"
   ]
  },
  {
   "cell_type": "code",
   "execution_count": 1,
   "id": "cddaed17",
   "metadata": {
    "execution": {
     "iopub.execute_input": "2024-05-14T15:26:12.212616Z",
     "iopub.status.busy": "2024-05-14T15:26:12.211726Z",
     "iopub.status.idle": "2024-05-14T15:26:12.222501Z",
     "shell.execute_reply": "2024-05-14T15:26:12.221790Z"
    },
    "papermill": {
     "duration": 0.021824,
     "end_time": "2024-05-14T15:26:12.224422",
     "exception": false,
     "start_time": "2024-05-14T15:26:12.202598",
     "status": "completed"
    },
    "tags": []
   },
   "outputs": [],
   "source": [
    "base_dir = \"/kaggle/input/tomatoleaf/tomato\"\n",
    "train_dir = \"/kaggle/input/tomatoleaf/tomato/train\"\n",
    "validation_dir = \"/kaggle/input/tomatoleaf/tomato/val\""
   ]
  },
  {
   "cell_type": "markdown",
   "id": "00f8ac4f",
   "metadata": {
    "papermill": {
     "duration": 0.007594,
     "end_time": "2024-05-14T15:26:12.239955",
     "exception": false,
     "start_time": "2024-05-14T15:26:12.232361",
     "status": "completed"
    },
    "tags": []
   },
   "source": [
    "# 2. Define Image Size and Batch Size:"
   ]
  },
  {
   "cell_type": "code",
   "execution_count": 2,
   "id": "78b637a9",
   "metadata": {
    "execution": {
     "iopub.execute_input": "2024-05-14T15:26:12.257217Z",
     "iopub.status.busy": "2024-05-14T15:26:12.256469Z",
     "iopub.status.idle": "2024-05-14T15:26:12.260513Z",
     "shell.execute_reply": "2024-05-14T15:26:12.259629Z"
    },
    "papermill": {
     "duration": 0.014474,
     "end_time": "2024-05-14T15:26:12.262287",
     "exception": false,
     "start_time": "2024-05-14T15:26:12.247813",
     "status": "completed"
    },
    "tags": []
   },
   "outputs": [],
   "source": [
    "IMAGE_SIZE = 224 # define the image size for all images (height and Width = 224 X 224)\n",
    "BATCH_SIZE = 64  # At the time of training 64 images will be there at a time"
   ]
  },
  {
   "cell_type": "markdown",
   "id": "9d438a78",
   "metadata": {
    "papermill": {
     "duration": 0.007602,
     "end_time": "2024-05-14T15:26:12.277630",
     "exception": false,
     "start_time": "2024-05-14T15:26:12.270028",
     "status": "completed"
    },
    "tags": []
   },
   "source": [
    "# 3. Set Folder Paths:"
   ]
  },
  {
   "cell_type": "code",
   "execution_count": 3,
   "id": "b0c30137",
   "metadata": {
    "execution": {
     "iopub.execute_input": "2024-05-14T15:26:12.294319Z",
     "iopub.status.busy": "2024-05-14T15:26:12.294024Z",
     "iopub.status.idle": "2024-05-14T15:26:25.515537Z",
     "shell.execute_reply": "2024-05-14T15:26:25.514748Z"
    },
    "papermill": {
     "duration": 13.232559,
     "end_time": "2024-05-14T15:26:25.517893",
     "exception": false,
     "start_time": "2024-05-14T15:26:12.285334",
     "status": "completed"
    },
    "tags": []
   },
   "outputs": [
    {
     "name": "stderr",
     "output_type": "stream",
     "text": [
      "2024-05-14 15:26:14.098182: E external/local_xla/xla/stream_executor/cuda/cuda_dnn.cc:9261] Unable to register cuDNN factory: Attempting to register factory for plugin cuDNN when one has already been registered\n",
      "2024-05-14 15:26:14.098290: E external/local_xla/xla/stream_executor/cuda/cuda_fft.cc:607] Unable to register cuFFT factory: Attempting to register factory for plugin cuFFT when one has already been registered\n",
      "2024-05-14 15:26:14.241185: E external/local_xla/xla/stream_executor/cuda/cuda_blas.cc:1515] Unable to register cuBLAS factory: Attempting to register factory for plugin cuBLAS when one has already been registered\n"
     ]
    }
   ],
   "source": [
    "import os\n",
    "import numpy as np\n",
    "import tensorflow as tf\n",
    "from tensorflow.keras.layers import Input, Flatten, Dense, Dropout\n",
    "from tensorflow.keras.models import Model, Sequential\n",
    "from tensorflow.keras.applications.vgg16 import VGG16\n",
    "from tensorflow.keras.optimizers import Adam, RMSprop\n",
    "from tensorflow.keras.preprocessing.image import ImageDataGenerator\n",
    "from tensorflow.keras import applications\n",
    "from tensorflow.keras.callbacks import EarlyStopping, ReduceLROnPlateau, ModelCheckpoint\n",
    "from glob import glob\n",
    "from sklearn.model_selection import train_test_split"
   ]
  },
  {
   "cell_type": "markdown",
   "id": "37752864",
   "metadata": {
    "papermill": {
     "duration": 0.00861,
     "end_time": "2024-05-14T15:26:25.534868",
     "exception": false,
     "start_time": "2024-05-14T15:26:25.526258",
     "status": "completed"
    },
    "tags": []
   },
   "source": [
    "# 4. Load VGG16 Model:"
   ]
  },
  {
   "cell_type": "code",
   "execution_count": 4,
   "id": "8e7bf85c",
   "metadata": {
    "execution": {
     "iopub.execute_input": "2024-05-14T15:26:25.552474Z",
     "iopub.status.busy": "2024-05-14T15:26:25.551527Z",
     "iopub.status.idle": "2024-05-14T15:26:26.904176Z",
     "shell.execute_reply": "2024-05-14T15:26:26.903248Z"
    },
    "papermill": {
     "duration": 1.363635,
     "end_time": "2024-05-14T15:26:26.906351",
     "exception": false,
     "start_time": "2024-05-14T15:26:25.542716",
     "status": "completed"
    },
    "tags": []
   },
   "outputs": [
    {
     "name": "stdout",
     "output_type": "stream",
     "text": [
      "Downloading data from https://storage.googleapis.com/tensorflow/keras-applications/vgg16/vgg16_weights_tf_dim_ordering_tf_kernels_notop.h5\n",
      "\u001b[1m58889256/58889256\u001b[0m \u001b[32m━━━━━━━━━━━━━━━━━━━━\u001b[0m\u001b[37m\u001b[0m \u001b[1m0s\u001b[0m 0us/step\n"
     ]
    },
    {
     "data": {
      "text/plain": [
       "<KerasTensor shape=(None, 7, 7, 512), dtype=float32, sparse=False, name=keras_tensor_18>"
      ]
     },
     "execution_count": 4,
     "metadata": {},
     "output_type": "execute_result"
    }
   ],
   "source": [
    "# IMAGE_SIZE = [224, 224]\n",
    "vgg = VGG16(weights = 'imagenet', include_top=False, input_shape=(IMAGE_SIZE, IMAGE_SIZE, 3)) \n",
    "# include_top = False (where we are defining our own class/label) means we are working at our own dataset where we will have our own label\n",
    "# here we will have 10 layers (as 10 classes are there)\n",
    "vgg.output"
   ]
  },
  {
   "cell_type": "markdown",
   "id": "efd055c2",
   "metadata": {
    "papermill": {
     "duration": 0.011796,
     "end_time": "2024-05-14T15:26:26.935161",
     "exception": false,
     "start_time": "2024-05-14T15:26:26.923365",
     "status": "completed"
    },
    "tags": []
   },
   "source": [
    "# 5. Freeze Convolutional Layers (Optional Fine-Tuning):"
   ]
  },
  {
   "cell_type": "code",
   "execution_count": 5,
   "id": "5c49215b",
   "metadata": {
    "execution": {
     "iopub.execute_input": "2024-05-14T15:26:26.957908Z",
     "iopub.status.busy": "2024-05-14T15:26:26.957435Z",
     "iopub.status.idle": "2024-05-14T15:26:26.963785Z",
     "shell.execute_reply": "2024-05-14T15:26:26.962734Z"
    },
    "papermill": {
     "duration": 0.020986,
     "end_time": "2024-05-14T15:26:26.966007",
     "exception": false,
     "start_time": "2024-05-14T15:26:26.945021",
     "status": "completed"
    },
    "tags": []
   },
   "outputs": [],
   "source": [
    "# we donot need to train our layer, we will work with pre existing weights\n",
    "for layer in vgg.layers[:10]:\n",
    "    layer.trainable = False\n",
    "\n",
    "for layer in vgg.layers[12:]:\n",
    "    layer.trainable = True\n",
    "# We have total 19 layers"
   ]
  },
  {
   "cell_type": "markdown",
   "id": "71fe7e63",
   "metadata": {
    "papermill": {
     "duration": 0.012708,
     "end_time": "2024-05-14T15:26:26.989146",
     "exception": false,
     "start_time": "2024-05-14T15:26:26.976438",
     "status": "completed"
    },
    "tags": []
   },
   "source": [
    "# 6. Get the Number of Classes from Folder Names:\n"
   ]
  },
  {
   "cell_type": "code",
   "execution_count": 6,
   "id": "12da21c7",
   "metadata": {
    "execution": {
     "iopub.execute_input": "2024-05-14T15:26:27.009354Z",
     "iopub.status.busy": "2024-05-14T15:26:27.008524Z",
     "iopub.status.idle": "2024-05-14T15:26:27.022080Z",
     "shell.execute_reply": "2024-05-14T15:26:27.021129Z"
    },
    "papermill": {
     "duration": 0.025772,
     "end_time": "2024-05-14T15:26:27.024024",
     "exception": false,
     "start_time": "2024-05-14T15:26:26.998252",
     "status": "completed"
    },
    "tags": []
   },
   "outputs": [
    {
     "name": "stdout",
     "output_type": "stream",
     "text": [
      "10\n",
      "Number of classes: 10\n"
     ]
    }
   ],
   "source": [
    "# folders will contain the all folder under train folder\n",
    "# folders = glob(\"/kaggle/input/tomatoleaf/tomato/train/*\")\n",
    "folders = glob(train_dir + '/*')\n",
    "print(len(folders))\n",
    "\n",
    "num_classes = len(folders)\n",
    "print(\"Number of classes:\", num_classes)"
   ]
  },
  {
   "cell_type": "markdown",
   "id": "1c18443e",
   "metadata": {
    "papermill": {
     "duration": 0.00854,
     "end_time": "2024-05-14T15:26:27.041527",
     "exception": false,
     "start_time": "2024-05-14T15:26:27.032987",
     "status": "completed"
    },
    "tags": []
   },
   "source": [
    "# 7. Create the Classification Head:"
   ]
  },
  {
   "cell_type": "code",
   "execution_count": 7,
   "id": "7efcbad0",
   "metadata": {
    "execution": {
     "iopub.execute_input": "2024-05-14T15:26:27.060429Z",
     "iopub.status.busy": "2024-05-14T15:26:27.059919Z",
     "iopub.status.idle": "2024-05-14T15:26:27.079759Z",
     "shell.execute_reply": "2024-05-14T15:26:27.078694Z"
    },
    "papermill": {
     "duration": 0.031536,
     "end_time": "2024-05-14T15:26:27.081789",
     "exception": false,
     "start_time": "2024-05-14T15:26:27.050253",
     "status": "completed"
    },
    "tags": []
   },
   "outputs": [
    {
     "name": "stdout",
     "output_type": "stream",
     "text": [
      "<Sequential name=sequential, built=False>\n"
     ]
    }
   ],
   "source": [
    "model = Sequential()\n",
    "model.add(vgg)\n",
    "model.add(Flatten())\n",
    "model.add(Dense(512, activation='relu'))\n",
    "model.add(Dropout(0.3))                   # Dropout layer\n",
    "model.add(Dense(256, activation='relu'))  # Additional dense layer\n",
    "model.add(Dropout(0.3))                   # Dropout layer\n",
    "model.add(Dense(128, activation='relu'))  # Additional dense layer\n",
    "model.add(Dropout(0.3))\n",
    "model.add(Dense(num_classes, activation='softmax'))\n",
    "print(model)"
   ]
  },
  {
   "cell_type": "markdown",
   "id": "6dc60bba",
   "metadata": {
    "papermill": {
     "duration": 0.00855,
     "end_time": "2024-05-14T15:26:27.099113",
     "exception": false,
     "start_time": "2024-05-14T15:26:27.090563",
     "status": "completed"
    },
    "tags": []
   },
   "source": [
    "# 8. Compile the Model (Initial Training):"
   ]
  },
  {
   "cell_type": "code",
   "execution_count": 8,
   "id": "c54a9567",
   "metadata": {
    "execution": {
     "iopub.execute_input": "2024-05-14T15:26:27.117765Z",
     "iopub.status.busy": "2024-05-14T15:26:27.117441Z",
     "iopub.status.idle": "2024-05-14T15:26:27.132419Z",
     "shell.execute_reply": "2024-05-14T15:26:27.131266Z"
    },
    "papermill": {
     "duration": 0.027037,
     "end_time": "2024-05-14T15:26:27.134970",
     "exception": false,
     "start_time": "2024-05-14T15:26:27.107933",
     "status": "completed"
    },
    "tags": []
   },
   "outputs": [],
   "source": [
    "optimizer = RMSprop(learning_rate=0.0001)  # Consider using a learning rate scheduler\n",
    "model.compile(loss=\"categorical_crossentropy\", optimizer=optimizer, metrics=[\"accuracy\"])"
   ]
  },
  {
   "cell_type": "markdown",
   "id": "8d6e60da",
   "metadata": {
    "papermill": {
     "duration": 0.013288,
     "end_time": "2024-05-14T15:26:27.161141",
     "exception": false,
     "start_time": "2024-05-14T15:26:27.147853",
     "status": "completed"
    },
    "tags": []
   },
   "source": [
    "## Prepare the data."
   ]
  },
  {
   "cell_type": "markdown",
   "id": "eab114c6",
   "metadata": {
    "papermill": {
     "duration": 0.011636,
     "end_time": "2024-05-14T15:26:27.186066",
     "exception": false,
     "start_time": "2024-05-14T15:26:27.174430",
     "status": "completed"
    },
    "tags": []
   },
   "source": [
    "# 9. Data Augmentation for Training and Validation:"
   ]
  },
  {
   "cell_type": "code",
   "execution_count": 9,
   "id": "8f06c27d",
   "metadata": {
    "execution": {
     "iopub.execute_input": "2024-05-14T15:26:27.215050Z",
     "iopub.status.busy": "2024-05-14T15:26:27.214374Z",
     "iopub.status.idle": "2024-05-14T15:26:27.220054Z",
     "shell.execute_reply": "2024-05-14T15:26:27.219097Z"
    },
    "papermill": {
     "duration": 0.024895,
     "end_time": "2024-05-14T15:26:27.222388",
     "exception": false,
     "start_time": "2024-05-14T15:26:27.197493",
     "status": "completed"
    },
    "tags": []
   },
   "outputs": [],
   "source": [
    "train_datagen = ImageDataGenerator(\n",
    "    rescale=1.0 / 255,\n",
    "    rotation_range=40,\n",
    "    width_shift_range=0.2,\n",
    "    height_shift_range=0.2,\n",
    "    shear_range=0.2,\n",
    "    zoom_range=0.2,\n",
    "    horizontal_flip=True,\n",
    "    fill_mode=\"nearest\",\n",
    "    validation_split = 0.2  # 20% for validation\n",
    ")\n",
    "validation_datagen = ImageDataGenerator(\n",
    "    rescale=1./255,\n",
    ")"
   ]
  },
  {
   "cell_type": "markdown",
   "id": "34ecc09c",
   "metadata": {
    "papermill": {
     "duration": 0.010975,
     "end_time": "2024-05-14T15:26:27.245030",
     "exception": false,
     "start_time": "2024-05-14T15:26:27.234055",
     "status": "completed"
    },
    "tags": []
   },
   "source": [
    "# 10. Prepare Data Generators:"
   ]
  },
  {
   "cell_type": "code",
   "execution_count": 10,
   "id": "7b10add3",
   "metadata": {
    "execution": {
     "iopub.execute_input": "2024-05-14T15:26:27.269422Z",
     "iopub.status.busy": "2024-05-14T15:26:27.268433Z",
     "iopub.status.idle": "2024-05-14T15:26:33.769796Z",
     "shell.execute_reply": "2024-05-14T15:26:33.768919Z"
    },
    "papermill": {
     "duration": 6.515612,
     "end_time": "2024-05-14T15:26:33.771964",
     "exception": false,
     "start_time": "2024-05-14T15:26:27.256352",
     "status": "completed"
    },
    "tags": []
   },
   "outputs": [
    {
     "name": "stdout",
     "output_type": "stream",
     "text": [
      "Found 8000 images belonging to 10 classes.\n",
      "Found 2000 images belonging to 10 classes.\n",
      "Found 1000 images belonging to 10 classes.\n"
     ]
    }
   ],
   "source": [
    "train_generator = train_datagen.flow_from_directory(\n",
    "    train_dir, # define directory\n",
    "    target_size=(IMAGE_SIZE, IMAGE_SIZE),\n",
    "    batch_size=BATCH_SIZE,\n",
    "    class_mode='categorical',\n",
    "    shuffle=True,  # Shuffle the data before splitting\n",
    "    subset='training',  # Specify that this is for training\n",
    ")\n",
    "\n",
    "validation_generator = train_datagen.flow_from_directory(\n",
    "    train_dir,\n",
    "    target_size=(IMAGE_SIZE, IMAGE_SIZE),\n",
    "    batch_size=BATCH_SIZE,\n",
    "    class_mode='categorical',\n",
    "    subset='validation',  # Specify that this is for training\n",
    ")\n",
    "test_generator = validation_datagen.flow_from_directory(\n",
    "    validation_dir,\n",
    "    target_size = (IMAGE_SIZE, IMAGE_SIZE),\n",
    "    batch_size = BATCH_SIZE,\n",
    "    shuffle = False,\n",
    "    class_mode = 'categorical'\n",
    ")"
   ]
  },
  {
   "cell_type": "markdown",
   "id": "ea20bfb8",
   "metadata": {
    "papermill": {
     "duration": 0.00899,
     "end_time": "2024-05-14T15:26:33.790533",
     "exception": false,
     "start_time": "2024-05-14T15:26:33.781543",
     "status": "completed"
    },
    "tags": []
   },
   "source": [
    "# 11. Early Stopping and Learning Rate Reduction:"
   ]
  },
  {
   "cell_type": "code",
   "execution_count": 11,
   "id": "35943330",
   "metadata": {
    "execution": {
     "iopub.execute_input": "2024-05-14T15:26:33.810376Z",
     "iopub.status.busy": "2024-05-14T15:26:33.809587Z",
     "iopub.status.idle": "2024-05-14T15:26:33.814632Z",
     "shell.execute_reply": "2024-05-14T15:26:33.813825Z"
    },
    "papermill": {
     "duration": 0.016827,
     "end_time": "2024-05-14T15:26:33.816461",
     "exception": false,
     "start_time": "2024-05-14T15:26:33.799634",
     "status": "completed"
    },
    "tags": []
   },
   "outputs": [],
   "source": [
    "early_stopping = EarlyStopping(monitor=\"val_loss\", patience=3, restore_best_weights=True)\n",
    "reduce_lr = ReduceLROnPlateau(monitor=\"val_loss\", factor=0.1, patience=2, min_lr=0.0001)\n",
    "model_checkpoint = ModelCheckpoint('tomato_vgg16_model.weights.h5', monitor='val_loss', save_best_only=True, save_weights_only=True, verbose=1)"
   ]
  },
  {
   "cell_type": "markdown",
   "id": "071ed38d",
   "metadata": {
    "papermill": {
     "duration": 0.009009,
     "end_time": "2024-05-14T15:26:33.834499",
     "exception": false,
     "start_time": "2024-05-14T15:26:33.825490",
     "status": "completed"
    },
    "tags": []
   },
   "source": [
    "# 12. Train the Model (Initial):"
   ]
  },
  {
   "cell_type": "code",
   "execution_count": 12,
   "id": "7fb22ff1",
   "metadata": {
    "execution": {
     "iopub.execute_input": "2024-05-14T15:26:33.854213Z",
     "iopub.status.busy": "2024-05-14T15:26:33.853541Z",
     "iopub.status.idle": "2024-05-14T16:02:52.924652Z",
     "shell.execute_reply": "2024-05-14T16:02:52.923649Z"
    },
    "papermill": {
     "duration": 2179.109278,
     "end_time": "2024-05-14T16:02:52.952871",
     "exception": false,
     "start_time": "2024-05-14T15:26:33.843593",
     "status": "completed"
    },
    "tags": []
   },
   "outputs": [
    {
     "name": "stdout",
     "output_type": "stream",
     "text": [
      "Epoch 1/20\n"
     ]
    },
    {
     "name": "stderr",
     "output_type": "stream",
     "text": [
      "/opt/conda/lib/python3.10/site-packages/keras/src/trainers/data_adapters/py_dataset_adapter.py:120: UserWarning: Your `PyDataset` class should call `super().__init__(**kwargs)` in its constructor. `**kwargs` can include `workers`, `use_multiprocessing`, `max_queue_size`. Do not pass these arguments to `fit()`, as they will be ignored.\n",
      "  self._warn_if_super_not_called()\n",
      "2024-05-14 15:26:52.071305: E external/local_xla/xla/service/slow_operation_alarm.cc:65] Trying algorithm eng15{k5=1,k6=0,k7=1,k10=1} for conv (f32[64,64,224,224]{3,2,1,0}, u8[0]{0}) custom-call(f32[64,3,224,224]{3,2,1,0}, f32[64,3,3,3]{3,2,1,0}, f32[64]{0}), window={size=3x3 pad=1_1x1_1}, dim_labels=bf01_oi01->bf01, custom_call_target=\"__cudnn$convBiasActivationForward\", backend_config={\"conv_result_scale\":1,\"activation_mode\":\"kRelu\",\"side_input_scale\":0,\"leakyrelu_alpha\":0} is taking a while...\n",
      "2024-05-14 15:26:52.498659: E external/local_xla/xla/service/gpu/buffer_comparator.cc:1137] Difference at 100352: 3.87759, expected 3.06898\n",
      "2024-05-14 15:26:52.498721: E external/local_xla/xla/service/gpu/buffer_comparator.cc:1137] Difference at 100353: 6.47516, expected 5.66656\n",
      "2024-05-14 15:26:52.498738: E external/local_xla/xla/service/gpu/buffer_comparator.cc:1137] Difference at 100354: 6.23991, expected 5.43131\n",
      "2024-05-14 15:26:52.498755: E external/local_xla/xla/service/gpu/buffer_comparator.cc:1137] Difference at 100355: 6.00741, expected 5.19881\n",
      "2024-05-14 15:26:52.498768: E external/local_xla/xla/service/gpu/buffer_comparator.cc:1137] Difference at 100356: 6.35893, expected 5.55033\n",
      "2024-05-14 15:26:52.498780: E external/local_xla/xla/service/gpu/buffer_comparator.cc:1137] Difference at 100357: 5.97504, expected 5.16643\n",
      "2024-05-14 15:26:52.498790: E external/local_xla/xla/service/gpu/buffer_comparator.cc:1137] Difference at 100358: 5.16642, expected 4.35781\n",
      "2024-05-14 15:26:52.498800: E external/local_xla/xla/service/gpu/buffer_comparator.cc:1137] Difference at 100359: 6.3414, expected 5.5328\n",
      "2024-05-14 15:26:52.498811: E external/local_xla/xla/service/gpu/buffer_comparator.cc:1137] Difference at 100360: 5.26734, expected 4.45874\n",
      "2024-05-14 15:26:52.498821: E external/local_xla/xla/service/gpu/buffer_comparator.cc:1137] Difference at 100361: 6.92264, expected 6.11404\n",
      "2024-05-14 15:26:52.587936: E external/local_xla/xla/service/gpu/conv_algorithm_picker.cc:705] Results mismatch between different convolution algorithms. This is likely a bug/unexpected loss of precision in cudnn.\n",
      "(f32[64,64,224,224]{3,2,1,0}, u8[0]{0}) custom-call(f32[64,3,224,224]{3,2,1,0}, f32[64,3,3,3]{3,2,1,0}, f32[64]{0}), window={size=3x3 pad=1_1x1_1}, dim_labels=bf01_oi01->bf01, custom_call_target=\"__cudnn$convBiasActivationForward\", backend_config={\"conv_result_scale\":1,\"activation_mode\":\"kRelu\",\"side_input_scale\":0,\"leakyrelu_alpha\":0} for eng20{k2=1,k4=1,k5=1,k6=0,k7=0} vs eng15{k5=1,k6=0,k7=1,k10=1}\n",
      "2024-05-14 15:26:52.587988: E external/local_xla/xla/service/gpu/conv_algorithm_picker.cc:270] Device: Tesla P100-PCIE-16GB\n",
      "2024-05-14 15:26:52.588002: E external/local_xla/xla/service/gpu/conv_algorithm_picker.cc:271] Platform: Compute Capability 6.0\n",
      "2024-05-14 15:26:52.588013: E external/local_xla/xla/service/gpu/conv_algorithm_picker.cc:272] Driver: 12020 (535.129.3)\n",
      "2024-05-14 15:26:52.588029: E external/local_xla/xla/service/gpu/conv_algorithm_picker.cc:273] Runtime: <undefined>\n",
      "2024-05-14 15:26:52.588050: E external/local_xla/xla/service/gpu/conv_algorithm_picker.cc:280] cudnn version: 8.9.0\n",
      "2024-05-14 15:26:52.588100: E external/local_xla/xla/service/slow_operation_alarm.cc:133] The operation took 1.516921265s\n",
      "Trying algorithm eng15{k5=1,k6=0,k7=1,k10=1} for conv (f32[64,64,224,224]{3,2,1,0}, u8[0]{0}) custom-call(f32[64,3,224,224]{3,2,1,0}, f32[64,3,3,3]{3,2,1,0}, f32[64]{0}), window={size=3x3 pad=1_1x1_1}, dim_labels=bf01_oi01->bf01, custom_call_target=\"__cudnn$convBiasActivationForward\", backend_config={\"conv_result_scale\":1,\"activation_mode\":\"kRelu\",\"side_input_scale\":0,\"leakyrelu_alpha\":0} is taking a while...\n",
      "2024-05-14 15:26:54.442801: E external/local_xla/xla/service/slow_operation_alarm.cc:65] Trying algorithm eng15{k5=1,k6=0,k7=1,k10=1} for conv (f32[64,64,224,224]{3,2,1,0}, u8[0]{0}) custom-call(f32[64,3,224,224]{3,2,1,0}, f32[64,3,3,3]{3,2,1,0}, f32[64]{0}), window={size=3x3 pad=1_1x1_1}, dim_labels=bf01_oi01->bf01, custom_call_target=\"__cudnn$convBiasActivationForward\", backend_config={\"conv_result_scale\":1,\"activation_mode\":\"kRelu\",\"side_input_scale\":0,\"leakyrelu_alpha\":0} is taking a while...\n",
      "2024-05-14 15:26:54.870099: E external/local_xla/xla/service/gpu/buffer_comparator.cc:1137] Difference at 100352: 3.87759, expected 3.06898\n",
      "2024-05-14 15:26:54.870157: E external/local_xla/xla/service/gpu/buffer_comparator.cc:1137] Difference at 100353: 6.47516, expected 5.66656\n",
      "2024-05-14 15:26:54.870182: E external/local_xla/xla/service/gpu/buffer_comparator.cc:1137] Difference at 100354: 6.23991, expected 5.43131\n",
      "2024-05-14 15:26:54.870198: E external/local_xla/xla/service/gpu/buffer_comparator.cc:1137] Difference at 100355: 6.00741, expected 5.19881\n",
      "2024-05-14 15:26:54.870210: E external/local_xla/xla/service/gpu/buffer_comparator.cc:1137] Difference at 100356: 6.35893, expected 5.55033\n",
      "2024-05-14 15:26:54.870220: E external/local_xla/xla/service/gpu/buffer_comparator.cc:1137] Difference at 100357: 5.97504, expected 5.16643\n",
      "2024-05-14 15:26:54.870231: E external/local_xla/xla/service/gpu/buffer_comparator.cc:1137] Difference at 100358: 5.16642, expected 4.35781\n",
      "2024-05-14 15:26:54.870242: E external/local_xla/xla/service/gpu/buffer_comparator.cc:1137] Difference at 100359: 6.3414, expected 5.5328\n",
      "2024-05-14 15:26:54.870252: E external/local_xla/xla/service/gpu/buffer_comparator.cc:1137] Difference at 100360: 5.26734, expected 4.45874\n",
      "2024-05-14 15:26:54.870263: E external/local_xla/xla/service/gpu/buffer_comparator.cc:1137] Difference at 100361: 6.92264, expected 6.11404\n",
      "2024-05-14 15:26:54.960551: E external/local_xla/xla/service/gpu/conv_algorithm_picker.cc:705] Results mismatch between different convolution algorithms. This is likely a bug/unexpected loss of precision in cudnn.\n",
      "(f32[64,64,224,224]{3,2,1,0}, u8[0]{0}) custom-call(f32[64,3,224,224]{3,2,1,0}, f32[64,3,3,3]{3,2,1,0}, f32[64]{0}), window={size=3x3 pad=1_1x1_1}, dim_labels=bf01_oi01->bf01, custom_call_target=\"__cudnn$convBiasActivationForward\", backend_config={\"conv_result_scale\":1,\"activation_mode\":\"kRelu\",\"side_input_scale\":0,\"leakyrelu_alpha\":0} for eng20{k2=1,k4=1,k5=1,k6=0,k7=0} vs eng15{k5=1,k6=0,k7=1,k10=1}\n",
      "2024-05-14 15:26:54.960615: E external/local_xla/xla/service/gpu/conv_algorithm_picker.cc:270] Device: Tesla P100-PCIE-16GB\n",
      "2024-05-14 15:26:54.960631: E external/local_xla/xla/service/gpu/conv_algorithm_picker.cc:271] Platform: Compute Capability 6.0\n",
      "2024-05-14 15:26:54.960641: E external/local_xla/xla/service/gpu/conv_algorithm_picker.cc:272] Driver: 12020 (535.129.3)\n",
      "2024-05-14 15:26:54.960652: E external/local_xla/xla/service/gpu/conv_algorithm_picker.cc:273] Runtime: <undefined>\n",
      "2024-05-14 15:26:54.960672: E external/local_xla/xla/service/gpu/conv_algorithm_picker.cc:280] cudnn version: 8.9.0\n",
      "2024-05-14 15:26:54.960722: E external/local_xla/xla/service/slow_operation_alarm.cc:133] The operation took 1.518119659s\n",
      "Trying algorithm eng15{k5=1,k6=0,k7=1,k10=1} for conv (f32[64,64,224,224]{3,2,1,0}, u8[0]{0}) custom-call(f32[64,3,224,224]{3,2,1,0}, f32[64,3,3,3]{3,2,1,0}, f32[64]{0}), window={size=3x3 pad=1_1x1_1}, dim_labels=bf01_oi01->bf01, custom_call_target=\"__cudnn$convBiasActivationForward\", backend_config={\"conv_result_scale\":1,\"activation_mode\":\"kRelu\",\"side_input_scale\":0,\"leakyrelu_alpha\":0} is taking a while...\n",
      "WARNING: All log messages before absl::InitializeLog() is called are written to STDERR\n",
      "I0000 00:00:1715700452.230071      66 device_compiler.h:186] Compiled cluster using XLA!  This line is logged at most once for the lifetime of the process.\n",
      "W0000 00:00:1715700452.254152      66 graph_launch.cc:671] Fallback to op-by-op mode because memset node breaks graph update\n"
     ]
    },
    {
     "name": "stdout",
     "output_type": "stream",
     "text": [
      "\u001b[1m125/125\u001b[0m \u001b[32m━━━━━━━━━━━━━━━━━━━━\u001b[0m\u001b[37m\u001b[0m \u001b[1m0s\u001b[0m 1s/step - accuracy: 0.1398 - loss: 2.3047"
     ]
    },
    {
     "name": "stderr",
     "output_type": "stream",
     "text": [
      "W0000 00:00:1715700585.998354      69 graph_launch.cc:671] Fallback to op-by-op mode because memset node breaks graph update\n",
      "2024-05-14 15:30:19.127314: E external/local_xla/xla/service/gpu/buffer_comparator.cc:1137] Difference at 0: 3.89842, expected 3.37692\n",
      "2024-05-14 15:30:19.127368: E external/local_xla/xla/service/gpu/buffer_comparator.cc:1137] Difference at 12: 3.13412, expected 2.61262\n",
      "2024-05-14 15:30:19.127378: E external/local_xla/xla/service/gpu/buffer_comparator.cc:1137] Difference at 13: 3.08377, expected 2.56227\n",
      "2024-05-14 15:30:19.127386: E external/local_xla/xla/service/gpu/buffer_comparator.cc:1137] Difference at 14: 4.1021, expected 3.5806\n",
      "2024-05-14 15:30:19.127395: E external/local_xla/xla/service/gpu/buffer_comparator.cc:1137] Difference at 29: 3.76539, expected 3.24388\n",
      "2024-05-14 15:30:19.127403: E external/local_xla/xla/service/gpu/buffer_comparator.cc:1137] Difference at 30: 4.19841, expected 3.6769\n",
      "2024-05-14 15:30:19.127411: E external/local_xla/xla/service/gpu/buffer_comparator.cc:1137] Difference at 63: 3.88366, expected 3.36216\n",
      "2024-05-14 15:30:19.127419: E external/local_xla/xla/service/gpu/buffer_comparator.cc:1137] Difference at 64: 3.84985, expected 3.32834\n",
      "2024-05-14 15:30:19.127426: E external/local_xla/xla/service/gpu/buffer_comparator.cc:1137] Difference at 67: 3.61908, expected 3.09757\n",
      "2024-05-14 15:30:19.127434: E external/local_xla/xla/service/gpu/buffer_comparator.cc:1137] Difference at 84: 3.73098, expected 3.20948\n",
      "2024-05-14 15:30:19.151286: E external/local_xla/xla/service/gpu/conv_algorithm_picker.cc:705] Results mismatch between different convolution algorithms. This is likely a bug/unexpected loss of precision in cudnn.\n",
      "(f32[16,64,224,224]{3,2,1,0}, u8[0]{0}) custom-call(f32[16,3,224,224]{3,2,1,0}, f32[64,3,3,3]{3,2,1,0}, f32[64]{0}), window={size=3x3 pad=1_1x1_1}, dim_labels=bf01_oi01->bf01, custom_call_target=\"__cudnn$convBiasActivationForward\", backend_config={\"conv_result_scale\":1,\"activation_mode\":\"kRelu\",\"side_input_scale\":0,\"leakyrelu_alpha\":0} for eng20{k2=1,k4=1,k5=1,k6=0,k7=0} vs eng15{k5=1,k6=0,k7=1,k10=1}\n",
      "2024-05-14 15:30:19.151318: E external/local_xla/xla/service/gpu/conv_algorithm_picker.cc:270] Device: Tesla P100-PCIE-16GB\n",
      "2024-05-14 15:30:19.151327: E external/local_xla/xla/service/gpu/conv_algorithm_picker.cc:271] Platform: Compute Capability 6.0\n",
      "2024-05-14 15:30:19.151334: E external/local_xla/xla/service/gpu/conv_algorithm_picker.cc:272] Driver: 12020 (535.129.3)\n",
      "2024-05-14 15:30:19.151340: E external/local_xla/xla/service/gpu/conv_algorithm_picker.cc:273] Runtime: <undefined>\n",
      "2024-05-14 15:30:19.151355: E external/local_xla/xla/service/gpu/conv_algorithm_picker.cc:280] cudnn version: 8.9.0\n",
      "2024-05-14 15:30:19.712908: E external/local_xla/xla/service/gpu/buffer_comparator.cc:1137] Difference at 0: 3.89842, expected 3.37692\n",
      "2024-05-14 15:30:19.712961: E external/local_xla/xla/service/gpu/buffer_comparator.cc:1137] Difference at 12: 3.13412, expected 2.61262\n",
      "2024-05-14 15:30:19.712976: E external/local_xla/xla/service/gpu/buffer_comparator.cc:1137] Difference at 13: 3.08377, expected 2.56227\n",
      "2024-05-14 15:30:19.712993: E external/local_xla/xla/service/gpu/buffer_comparator.cc:1137] Difference at 14: 4.1021, expected 3.5806\n",
      "2024-05-14 15:30:19.713005: E external/local_xla/xla/service/gpu/buffer_comparator.cc:1137] Difference at 29: 3.76539, expected 3.24388\n",
      "2024-05-14 15:30:19.713016: E external/local_xla/xla/service/gpu/buffer_comparator.cc:1137] Difference at 30: 4.19841, expected 3.6769\n",
      "2024-05-14 15:30:19.713026: E external/local_xla/xla/service/gpu/buffer_comparator.cc:1137] Difference at 63: 3.88366, expected 3.36216\n",
      "2024-05-14 15:30:19.713037: E external/local_xla/xla/service/gpu/buffer_comparator.cc:1137] Difference at 64: 3.84985, expected 3.32834\n",
      "2024-05-14 15:30:19.713047: E external/local_xla/xla/service/gpu/buffer_comparator.cc:1137] Difference at 67: 3.61908, expected 3.09757\n",
      "2024-05-14 15:30:19.713057: E external/local_xla/xla/service/gpu/buffer_comparator.cc:1137] Difference at 84: 3.73098, expected 3.20948\n",
      "2024-05-14 15:30:19.737253: E external/local_xla/xla/service/gpu/conv_algorithm_picker.cc:705] Results mismatch between different convolution algorithms. This is likely a bug/unexpected loss of precision in cudnn.\n",
      "(f32[16,64,224,224]{3,2,1,0}, u8[0]{0}) custom-call(f32[16,3,224,224]{3,2,1,0}, f32[64,3,3,3]{3,2,1,0}, f32[64]{0}), window={size=3x3 pad=1_1x1_1}, dim_labels=bf01_oi01->bf01, custom_call_target=\"__cudnn$convBiasActivationForward\", backend_config={\"conv_result_scale\":1,\"activation_mode\":\"kRelu\",\"side_input_scale\":0,\"leakyrelu_alpha\":0} for eng20{k2=1,k4=1,k5=1,k6=0,k7=0} vs eng15{k5=1,k6=0,k7=1,k10=1}\n",
      "2024-05-14 15:30:19.737305: E external/local_xla/xla/service/gpu/conv_algorithm_picker.cc:270] Device: Tesla P100-PCIE-16GB\n",
      "2024-05-14 15:30:19.737320: E external/local_xla/xla/service/gpu/conv_algorithm_picker.cc:271] Platform: Compute Capability 6.0\n",
      "2024-05-14 15:30:19.737340: E external/local_xla/xla/service/gpu/conv_algorithm_picker.cc:272] Driver: 12020 (535.129.3)\n",
      "2024-05-14 15:30:19.737352: E external/local_xla/xla/service/gpu/conv_algorithm_picker.cc:273] Runtime: <undefined>\n",
      "2024-05-14 15:30:19.737373: E external/local_xla/xla/service/gpu/conv_algorithm_picker.cc:280] cudnn version: 8.9.0\n"
     ]
    },
    {
     "name": "stdout",
     "output_type": "stream",
     "text": [
      "\n",
      "Epoch 1: val_loss improved from inf to 1.72074, saving model to tomato_vgg16_model.weights.h5\n",
      "\u001b[1m125/125\u001b[0m \u001b[32m━━━━━━━━━━━━━━━━━━━━\u001b[0m\u001b[37m\u001b[0m \u001b[1m232s\u001b[0m 1s/step - accuracy: 0.1402 - loss: 2.3037 - val_accuracy: 0.4085 - val_loss: 1.7207 - learning_rate: 1.0000e-04\n",
      "Epoch 2/20\n",
      "\u001b[1m125/125\u001b[0m \u001b[32m━━━━━━━━━━━━━━━━━━━━\u001b[0m\u001b[37m\u001b[0m \u001b[1m0s\u001b[0m 880ms/step - accuracy: 0.3604 - loss: 1.7698\n",
      "Epoch 2: val_loss improved from 1.72074 to 1.15320, saving model to tomato_vgg16_model.weights.h5\n",
      "\u001b[1m125/125\u001b[0m \u001b[32m━━━━━━━━━━━━━━━━━━━━\u001b[0m\u001b[37m\u001b[0m \u001b[1m146s\u001b[0m 1s/step - accuracy: 0.3608 - loss: 1.7690 - val_accuracy: 0.5900 - val_loss: 1.1532 - learning_rate: 1.0000e-04\n",
      "Epoch 3/20\n",
      "\u001b[1m125/125\u001b[0m \u001b[32m━━━━━━━━━━━━━━━━━━━━\u001b[0m\u001b[37m\u001b[0m \u001b[1m0s\u001b[0m 892ms/step - accuracy: 0.5377 - loss: 1.3284\n",
      "Epoch 3: val_loss improved from 1.15320 to 0.97166, saving model to tomato_vgg16_model.weights.h5\n",
      "\u001b[1m125/125\u001b[0m \u001b[32m━━━━━━━━━━━━━━━━━━━━\u001b[0m\u001b[37m\u001b[0m \u001b[1m148s\u001b[0m 1s/step - accuracy: 0.5380 - loss: 1.3277 - val_accuracy: 0.6540 - val_loss: 0.9717 - learning_rate: 1.0000e-04\n",
      "Epoch 4/20\n",
      "\u001b[1m125/125\u001b[0m \u001b[32m━━━━━━━━━━━━━━━━━━━━\u001b[0m\u001b[37m\u001b[0m \u001b[1m0s\u001b[0m 873ms/step - accuracy: 0.6515 - loss: 1.0192\n",
      "Epoch 4: val_loss improved from 0.97166 to 0.63758, saving model to tomato_vgg16_model.weights.h5\n",
      "\u001b[1m125/125\u001b[0m \u001b[32m━━━━━━━━━━━━━━━━━━━━\u001b[0m\u001b[37m\u001b[0m \u001b[1m145s\u001b[0m 1s/step - accuracy: 0.6516 - loss: 1.0188 - val_accuracy: 0.7795 - val_loss: 0.6376 - learning_rate: 1.0000e-04\n",
      "Epoch 5/20\n",
      "\u001b[1m125/125\u001b[0m \u001b[32m━━━━━━━━━━━━━━━━━━━━\u001b[0m\u001b[37m\u001b[0m \u001b[1m0s\u001b[0m 884ms/step - accuracy: 0.7152 - loss: 0.8430\n",
      "Epoch 5: val_loss improved from 0.63758 to 0.60455, saving model to tomato_vgg16_model.weights.h5\n",
      "\u001b[1m125/125\u001b[0m \u001b[32m━━━━━━━━━━━━━━━━━━━━\u001b[0m\u001b[37m\u001b[0m \u001b[1m146s\u001b[0m 1s/step - accuracy: 0.7154 - loss: 0.8429 - val_accuracy: 0.8220 - val_loss: 0.6046 - learning_rate: 1.0000e-04\n",
      "Epoch 6/20\n",
      "\u001b[1m125/125\u001b[0m \u001b[32m━━━━━━━━━━━━━━━━━━━━\u001b[0m\u001b[37m\u001b[0m \u001b[1m0s\u001b[0m 873ms/step - accuracy: 0.7842 - loss: 0.6651\n",
      "Epoch 6: val_loss improved from 0.60455 to 0.54791, saving model to tomato_vgg16_model.weights.h5\n",
      "\u001b[1m125/125\u001b[0m \u001b[32m━━━━━━━━━━━━━━━━━━━━\u001b[0m\u001b[37m\u001b[0m \u001b[1m145s\u001b[0m 1s/step - accuracy: 0.7842 - loss: 0.6651 - val_accuracy: 0.8145 - val_loss: 0.5479 - learning_rate: 1.0000e-04\n",
      "Epoch 7/20\n",
      "\u001b[1m125/125\u001b[0m \u001b[32m━━━━━━━━━━━━━━━━━━━━\u001b[0m\u001b[37m\u001b[0m \u001b[1m0s\u001b[0m 880ms/step - accuracy: 0.8222 - loss: 0.5663\n",
      "Epoch 7: val_loss improved from 0.54791 to 0.45899, saving model to tomato_vgg16_model.weights.h5\n",
      "\u001b[1m125/125\u001b[0m \u001b[32m━━━━━━━━━━━━━━━━━━━━\u001b[0m\u001b[37m\u001b[0m \u001b[1m146s\u001b[0m 1s/step - accuracy: 0.8223 - loss: 0.5662 - val_accuracy: 0.8735 - val_loss: 0.4590 - learning_rate: 1.0000e-04\n",
      "Epoch 8/20\n",
      "\u001b[1m125/125\u001b[0m \u001b[32m━━━━━━━━━━━━━━━━━━━━\u001b[0m\u001b[37m\u001b[0m \u001b[1m0s\u001b[0m 876ms/step - accuracy: 0.8577 - loss: 0.4753\n",
      "Epoch 8: val_loss improved from 0.45899 to 0.31600, saving model to tomato_vgg16_model.weights.h5\n",
      "\u001b[1m125/125\u001b[0m \u001b[32m━━━━━━━━━━━━━━━━━━━━\u001b[0m\u001b[37m\u001b[0m \u001b[1m201s\u001b[0m 1s/step - accuracy: 0.8577 - loss: 0.4754 - val_accuracy: 0.9005 - val_loss: 0.3160 - learning_rate: 1.0000e-04\n",
      "Epoch 9/20\n",
      "\u001b[1m125/125\u001b[0m \u001b[32m━━━━━━━━━━━━━━━━━━━━\u001b[0m\u001b[37m\u001b[0m \u001b[1m0s\u001b[0m 874ms/step - accuracy: 0.8797 - loss: 0.4028\n",
      "Epoch 9: val_loss did not improve from 0.31600\n",
      "\u001b[1m125/125\u001b[0m \u001b[32m━━━━━━━━━━━━━━━━━━━━\u001b[0m\u001b[37m\u001b[0m \u001b[1m144s\u001b[0m 1s/step - accuracy: 0.8797 - loss: 0.4028 - val_accuracy: 0.8805 - val_loss: 0.4818 - learning_rate: 1.0000e-04\n",
      "Epoch 10/20\n",
      "\u001b[1m125/125\u001b[0m \u001b[32m━━━━━━━━━━━━━━━━━━━━\u001b[0m\u001b[37m\u001b[0m \u001b[1m0s\u001b[0m 870ms/step - accuracy: 0.8802 - loss: 0.4185\n",
      "Epoch 10: val_loss did not improve from 0.31600\n",
      "\u001b[1m125/125\u001b[0m \u001b[32m━━━━━━━━━━━━━━━━━━━━\u001b[0m\u001b[37m\u001b[0m \u001b[1m144s\u001b[0m 1s/step - accuracy: 0.8803 - loss: 0.4183 - val_accuracy: 0.8815 - val_loss: 0.4019 - learning_rate: 1.0000e-04\n",
      "Epoch 11/20\n",
      "\u001b[1m125/125\u001b[0m \u001b[32m━━━━━━━━━━━━━━━━━━━━\u001b[0m\u001b[37m\u001b[0m \u001b[1m0s\u001b[0m 872ms/step - accuracy: 0.8958 - loss: 0.3539\n",
      "Epoch 11: val_loss improved from 0.31600 to 0.21825, saving model to tomato_vgg16_model.weights.h5\n",
      "\u001b[1m125/125\u001b[0m \u001b[32m━━━━━━━━━━━━━━━━━━━━\u001b[0m\u001b[37m\u001b[0m \u001b[1m145s\u001b[0m 1s/step - accuracy: 0.8958 - loss: 0.3539 - val_accuracy: 0.9465 - val_loss: 0.2183 - learning_rate: 1.0000e-04\n",
      "Epoch 12/20\n",
      "\u001b[1m125/125\u001b[0m \u001b[32m━━━━━━━━━━━━━━━━━━━━\u001b[0m\u001b[37m\u001b[0m \u001b[1m0s\u001b[0m 873ms/step - accuracy: 0.9022 - loss: 0.3456\n",
      "Epoch 12: val_loss did not improve from 0.21825\n",
      "\u001b[1m125/125\u001b[0m \u001b[32m━━━━━━━━━━━━━━━━━━━━\u001b[0m\u001b[37m\u001b[0m \u001b[1m144s\u001b[0m 1s/step - accuracy: 0.9023 - loss: 0.3455 - val_accuracy: 0.8550 - val_loss: 0.4869 - learning_rate: 1.0000e-04\n",
      "Epoch 13/20\n",
      "\u001b[1m125/125\u001b[0m \u001b[32m━━━━━━━━━━━━━━━━━━━━\u001b[0m\u001b[37m\u001b[0m \u001b[1m0s\u001b[0m 883ms/step - accuracy: 0.9115 - loss: 0.2974\n",
      "Epoch 13: val_loss did not improve from 0.21825\n",
      "\u001b[1m125/125\u001b[0m \u001b[32m━━━━━━━━━━━━━━━━━━━━\u001b[0m\u001b[37m\u001b[0m \u001b[1m146s\u001b[0m 1s/step - accuracy: 0.9115 - loss: 0.2976 - val_accuracy: 0.8655 - val_loss: 0.4991 - learning_rate: 1.0000e-04\n",
      "Epoch 14/20\n",
      "\u001b[1m125/125\u001b[0m \u001b[32m━━━━━━━━━━━━━━━━━━━━\u001b[0m\u001b[37m\u001b[0m \u001b[1m0s\u001b[0m 876ms/step - accuracy: 0.9202 - loss: 0.2840\n",
      "Epoch 14: val_loss did not improve from 0.21825\n",
      "\u001b[1m125/125\u001b[0m \u001b[32m━━━━━━━━━━━━━━━━━━━━\u001b[0m\u001b[37m\u001b[0m \u001b[1m145s\u001b[0m 1s/step - accuracy: 0.9203 - loss: 0.2839 - val_accuracy: 0.9085 - val_loss: 0.3536 - learning_rate: 1.0000e-04\n"
     ]
    }
   ],
   "source": [
    "epoch = 20\n",
    "history = model.fit(\n",
    "    train_generator, epochs=epoch, validation_data=validation_generator, callbacks=[early_stopping, reduce_lr, model_checkpoint]\n",
    ")"
   ]
  },
  {
   "cell_type": "markdown",
   "id": "265eb994",
   "metadata": {
    "papermill": {
     "duration": 0.149156,
     "end_time": "2024-05-14T16:02:53.251033",
     "exception": false,
     "start_time": "2024-05-14T16:02:53.101877",
     "status": "completed"
    },
    "tags": []
   },
   "source": [
    "# 13. Evaluate the Model after Initial Training:"
   ]
  },
  {
   "cell_type": "code",
   "execution_count": 13,
   "id": "d7a1982d",
   "metadata": {
    "execution": {
     "iopub.execute_input": "2024-05-14T16:02:53.553173Z",
     "iopub.status.busy": "2024-05-14T16:02:53.552824Z",
     "iopub.status.idle": "2024-05-14T16:03:23.886096Z",
     "shell.execute_reply": "2024-05-14T16:03:23.885155Z"
    },
    "papermill": {
     "duration": 30.497223,
     "end_time": "2024-05-14T16:03:23.898643",
     "exception": false,
     "start_time": "2024-05-14T16:02:53.401420",
     "status": "completed"
    },
    "tags": []
   },
   "outputs": [
    {
     "name": "stdout",
     "output_type": "stream",
     "text": [
      "\u001b[1m32/32\u001b[0m \u001b[32m━━━━━━━━━━━━━━━━━━━━\u001b[0m\u001b[37m\u001b[0m \u001b[1m29s\u001b[0m 888ms/step - accuracy: 0.9556 - loss: 0.1694\n",
      "Test loss (initial): 0.23099194467067719\n",
      "Test accuracy (initial): 0.9440000057220459\n"
     ]
    }
   ],
   "source": [
    "score = model.evaluate(validation_generator)\n",
    "print(\"Test loss (initial):\", score[0])\n",
    "print(\"Test accuracy (initial):\", score[1])"
   ]
  },
  {
   "cell_type": "markdown",
   "id": "40aa6919",
   "metadata": {
    "papermill": {
     "duration": 0.15362,
     "end_time": "2024-05-14T16:03:24.204258",
     "exception": false,
     "start_time": "2024-05-14T16:03:24.050638",
     "status": "completed"
    },
    "tags": []
   },
   "source": [
    "# Predict"
   ]
  },
  {
   "cell_type": "markdown",
   "id": "83063818",
   "metadata": {
    "papermill": {
     "duration": 0.151457,
     "end_time": "2024-05-14T16:03:24.508261",
     "exception": false,
     "start_time": "2024-05-14T16:03:24.356804",
     "status": "completed"
    },
    "tags": []
   },
   "source": [
    "# 14. Get Classification Report"
   ]
  },
  {
   "cell_type": "code",
   "execution_count": 14,
   "id": "d8f2be56",
   "metadata": {
    "execution": {
     "iopub.execute_input": "2024-05-14T16:03:24.812028Z",
     "iopub.status.busy": "2024-05-14T16:03:24.811687Z",
     "iopub.status.idle": "2024-05-14T16:03:52.332623Z",
     "shell.execute_reply": "2024-05-14T16:03:52.331544Z"
    },
    "papermill": {
     "duration": 27.674557,
     "end_time": "2024-05-14T16:03:52.334559",
     "exception": false,
     "start_time": "2024-05-14T16:03:24.660002",
     "status": "completed"
    },
    "tags": []
   },
   "outputs": [
    {
     "name": "stdout",
     "output_type": "stream",
     "text": [
      "\u001b[1m 2/16\u001b[0m \u001b[32m━━\u001b[0m\u001b[37m━━━━━━━━━━━━━━━━━━\u001b[0m \u001b[1m1s\u001b[0m 110ms/step "
     ]
    },
    {
     "name": "stderr",
     "output_type": "stream",
     "text": [
      "W0000 00:00:1715702606.441705      66 graph_launch.cc:671] Fallback to op-by-op mode because memset node breaks graph update\n"
     ]
    },
    {
     "name": "stdout",
     "output_type": "stream",
     "text": [
      "\u001b[1m15/16\u001b[0m \u001b[32m━━━━━━━━━━━━━━━━━━\u001b[0m\u001b[37m━━\u001b[0m \u001b[1m0s\u001b[0m 385ms/step"
     ]
    },
    {
     "name": "stderr",
     "output_type": "stream",
     "text": [
      "2024-05-14 16:03:33.430708: E external/local_xla/xla/service/gpu/buffer_comparator.cc:1137] Difference at 0: 4.65268, expected 3.85372\n",
      "2024-05-14 16:03:33.430921: E external/local_xla/xla/service/gpu/buffer_comparator.cc:1137] Difference at 1: 5.99463, expected 5.19567\n",
      "2024-05-14 16:03:33.430940: E external/local_xla/xla/service/gpu/buffer_comparator.cc:1137] Difference at 2: 6.57741, expected 5.77845\n",
      "2024-05-14 16:03:33.430950: E external/local_xla/xla/service/gpu/buffer_comparator.cc:1137] Difference at 3: 5.98603, expected 5.18707\n",
      "2024-05-14 16:03:33.430961: E external/local_xla/xla/service/gpu/buffer_comparator.cc:1137] Difference at 4: 5.73158, expected 4.93262\n",
      "2024-05-14 16:03:33.430971: E external/local_xla/xla/service/gpu/buffer_comparator.cc:1137] Difference at 5: 6.82611, expected 6.02715\n",
      "2024-05-14 16:03:33.430981: E external/local_xla/xla/service/gpu/buffer_comparator.cc:1137] Difference at 6: 5.87791, expected 5.07895\n",
      "2024-05-14 16:03:33.430991: E external/local_xla/xla/service/gpu/buffer_comparator.cc:1137] Difference at 7: 5.63401, expected 4.83505\n",
      "2024-05-14 16:03:33.431001: E external/local_xla/xla/service/gpu/buffer_comparator.cc:1137] Difference at 8: 5.01544, expected 4.21648\n",
      "2024-05-14 16:03:33.431011: E external/local_xla/xla/service/gpu/buffer_comparator.cc:1137] Difference at 9: 5.77464, expected 4.97568\n",
      "2024-05-14 16:03:33.492983: E external/local_xla/xla/service/gpu/conv_algorithm_picker.cc:705] Results mismatch between different convolution algorithms. This is likely a bug/unexpected loss of precision in cudnn.\n",
      "(f32[40,64,224,224]{3,2,1,0}, u8[0]{0}) custom-call(f32[40,3,224,224]{3,2,1,0}, f32[64,3,3,3]{3,2,1,0}, f32[64]{0}), window={size=3x3 pad=1_1x1_1}, dim_labels=bf01_oi01->bf01, custom_call_target=\"__cudnn$convBiasActivationForward\", backend_config={\"conv_result_scale\":1,\"activation_mode\":\"kRelu\",\"side_input_scale\":0,\"leakyrelu_alpha\":0} for eng20{k2=1,k4=1,k5=1,k6=0,k7=0} vs eng15{k5=1,k6=0,k7=1,k10=1}\n",
      "2024-05-14 16:03:33.493033: E external/local_xla/xla/service/gpu/conv_algorithm_picker.cc:270] Device: Tesla P100-PCIE-16GB\n",
      "2024-05-14 16:03:33.493042: E external/local_xla/xla/service/gpu/conv_algorithm_picker.cc:271] Platform: Compute Capability 6.0\n",
      "2024-05-14 16:03:33.493050: E external/local_xla/xla/service/gpu/conv_algorithm_picker.cc:272] Driver: 12020 (535.129.3)\n",
      "2024-05-14 16:03:33.493057: E external/local_xla/xla/service/gpu/conv_algorithm_picker.cc:273] Runtime: <undefined>\n",
      "2024-05-14 16:03:33.493074: E external/local_xla/xla/service/gpu/conv_algorithm_picker.cc:280] cudnn version: 8.9.0\n",
      "2024-05-14 16:03:34.847141: E external/local_xla/xla/service/gpu/buffer_comparator.cc:1137] Difference at 0: 4.65268, expected 3.85372\n",
      "2024-05-14 16:03:34.847199: E external/local_xla/xla/service/gpu/buffer_comparator.cc:1137] Difference at 1: 5.99463, expected 5.19567\n",
      "2024-05-14 16:03:34.847208: E external/local_xla/xla/service/gpu/buffer_comparator.cc:1137] Difference at 2: 6.57741, expected 5.77845\n",
      "2024-05-14 16:03:34.847216: E external/local_xla/xla/service/gpu/buffer_comparator.cc:1137] Difference at 3: 5.98603, expected 5.18707\n",
      "2024-05-14 16:03:34.847224: E external/local_xla/xla/service/gpu/buffer_comparator.cc:1137] Difference at 4: 5.73158, expected 4.93262\n",
      "2024-05-14 16:03:34.847232: E external/local_xla/xla/service/gpu/buffer_comparator.cc:1137] Difference at 5: 6.82611, expected 6.02715\n",
      "2024-05-14 16:03:34.847240: E external/local_xla/xla/service/gpu/buffer_comparator.cc:1137] Difference at 6: 5.87791, expected 5.07895\n",
      "2024-05-14 16:03:34.847247: E external/local_xla/xla/service/gpu/buffer_comparator.cc:1137] Difference at 7: 5.63401, expected 4.83505\n",
      "2024-05-14 16:03:34.847255: E external/local_xla/xla/service/gpu/buffer_comparator.cc:1137] Difference at 8: 5.01544, expected 4.21648\n",
      "2024-05-14 16:03:34.847263: E external/local_xla/xla/service/gpu/buffer_comparator.cc:1137] Difference at 9: 5.77464, expected 4.97568\n",
      "2024-05-14 16:03:34.905042: E external/local_xla/xla/service/gpu/conv_algorithm_picker.cc:705] Results mismatch between different convolution algorithms. This is likely a bug/unexpected loss of precision in cudnn.\n",
      "(f32[40,64,224,224]{3,2,1,0}, u8[0]{0}) custom-call(f32[40,3,224,224]{3,2,1,0}, f32[64,3,3,3]{3,2,1,0}, f32[64]{0}), window={size=3x3 pad=1_1x1_1}, dim_labels=bf01_oi01->bf01, custom_call_target=\"__cudnn$convBiasActivationForward\", backend_config={\"conv_result_scale\":1,\"activation_mode\":\"kRelu\",\"side_input_scale\":0,\"leakyrelu_alpha\":0} for eng20{k2=1,k4=1,k5=1,k6=0,k7=0} vs eng15{k5=1,k6=0,k7=1,k10=1}\n",
      "2024-05-14 16:03:34.905088: E external/local_xla/xla/service/gpu/conv_algorithm_picker.cc:270] Device: Tesla P100-PCIE-16GB\n",
      "2024-05-14 16:03:34.905096: E external/local_xla/xla/service/gpu/conv_algorithm_picker.cc:271] Platform: Compute Capability 6.0\n",
      "2024-05-14 16:03:34.905103: E external/local_xla/xla/service/gpu/conv_algorithm_picker.cc:272] Driver: 12020 (535.129.3)\n",
      "2024-05-14 16:03:34.905110: E external/local_xla/xla/service/gpu/conv_algorithm_picker.cc:273] Runtime: <undefined>\n",
      "2024-05-14 16:03:34.905126: E external/local_xla/xla/service/gpu/conv_algorithm_picker.cc:280] cudnn version: 8.9.0\n"
     ]
    },
    {
     "name": "stdout",
     "output_type": "stream",
     "text": [
      "\u001b[1m16/16\u001b[0m \u001b[32m━━━━━━━━━━━━━━━━━━━━\u001b[0m\u001b[37m\u001b[0m \u001b[1m27s\u001b[0m 2s/step\n",
      "                                               precision    recall  f1-score   support\n",
      "\n",
      "                      Tomato___Bacterial_spot       0.94      0.93      0.93       100\n",
      "                        Tomato___Early_blight       0.95      0.78      0.86       100\n",
      "                         Tomato___Late_blight       0.88      0.97      0.92       100\n",
      "                           Tomato___Leaf_Mold       1.00      0.95      0.97       100\n",
      "                  Tomato___Septoria_leaf_spot       0.83      0.96      0.89       100\n",
      "Tomato___Spider_mites Two-spotted_spider_mite       0.91      0.90      0.90       100\n",
      "                         Tomato___Target_Spot       0.83      0.90      0.86       100\n",
      "       Tomato___Tomato_Yellow_Leaf_Curl_Virus       1.00      0.95      0.97       100\n",
      "                 Tomato___Tomato_mosaic_virus       0.97      1.00      0.99       100\n",
      "                             Tomato___healthy       0.92      0.85      0.89       100\n",
      "\n",
      "                                     accuracy                           0.92      1000\n",
      "                                    macro avg       0.92      0.92      0.92      1000\n",
      "                                 weighted avg       0.92      0.92      0.92      1000\n",
      "\n"
     ]
    }
   ],
   "source": [
    "import numpy as np\n",
    "from sklearn.metrics import classification_report\n",
    "class_labels = ['Tomato___Bacterial_spot', 'Tomato___Early_blight', 'Tomato___Late_blight', \n",
    "                'Tomato___Leaf_Mold', 'Tomato___Septoria_leaf_spot', 'Tomato___Spider_mites Two-spotted_spider_mite',\n",
    "                'Tomato___Target_Spot', 'Tomato___Tomato_Yellow_Leaf_Curl_Virus', 'Tomato___Tomato_mosaic_virus',\n",
    "                'Tomato___healthy']\n",
    "\n",
    "predictions = model.predict(test_generator)\n",
    "predicted_classes = np.argmax(predictions, axis=1)\n",
    "true_labels = test_generator.classes\n",
    "report = classification_report(true_labels, predicted_classes, target_names=class_labels)\n",
    "print(report)"
   ]
  },
  {
   "cell_type": "markdown",
   "id": "42b6c027",
   "metadata": {
    "papermill": {
     "duration": 0.154301,
     "end_time": "2024-05-14T16:03:52.644558",
     "exception": false,
     "start_time": "2024-05-14T16:03:52.490257",
     "status": "completed"
    },
    "tags": []
   },
   "source": [
    "# 15. Update the weights of the model"
   ]
  },
  {
   "cell_type": "code",
   "execution_count": 15,
   "id": "69c4d33f",
   "metadata": {
    "execution": {
     "iopub.execute_input": "2024-05-14T16:03:52.954774Z",
     "iopub.status.busy": "2024-05-14T16:03:52.954384Z",
     "iopub.status.idle": "2024-05-14T16:03:53.269645Z",
     "shell.execute_reply": "2024-05-14T16:03:53.268845Z"
    },
    "papermill": {
     "duration": 0.473284,
     "end_time": "2024-05-14T16:03:53.272088",
     "exception": false,
     "start_time": "2024-05-14T16:03:52.798804",
     "status": "completed"
    },
    "tags": []
   },
   "outputs": [],
   "source": [
    "model.load_weights('/kaggle/working/tomato_vgg16_model.weights.h5')"
   ]
  },
  {
   "cell_type": "markdown",
   "id": "99243d3f",
   "metadata": {
    "papermill": {
     "duration": 0.15524,
     "end_time": "2024-05-14T16:03:53.582865",
     "exception": false,
     "start_time": "2024-05-14T16:03:53.427625",
     "status": "completed"
    },
    "tags": []
   },
   "source": [
    "# Test an image for prediction"
   ]
  },
  {
   "cell_type": "code",
   "execution_count": 16,
   "id": "cd9330b6",
   "metadata": {
    "execution": {
     "iopub.execute_input": "2024-05-14T16:03:53.893254Z",
     "iopub.status.busy": "2024-05-14T16:03:53.892419Z",
     "iopub.status.idle": "2024-05-14T16:03:55.950849Z",
     "shell.execute_reply": "2024-05-14T16:03:55.949765Z"
    },
    "papermill": {
     "duration": 2.214594,
     "end_time": "2024-05-14T16:03:55.952870",
     "exception": false,
     "start_time": "2024-05-14T16:03:53.738276",
     "status": "completed"
    },
    "tags": []
   },
   "outputs": [
    {
     "name": "stderr",
     "output_type": "stream",
     "text": [
      "2024-05-14 16:03:54.262400: E external/local_xla/xla/service/gpu/buffer_comparator.cc:1137] Difference at 0: 4.42855, expected 3.64542\n",
      "2024-05-14 16:03:54.262457: E external/local_xla/xla/service/gpu/buffer_comparator.cc:1137] Difference at 1: 5.87036, expected 5.08723\n",
      "2024-05-14 16:03:54.262467: E external/local_xla/xla/service/gpu/buffer_comparator.cc:1137] Difference at 2: 6.04003, expected 5.2569\n",
      "2024-05-14 16:03:54.262475: E external/local_xla/xla/service/gpu/buffer_comparator.cc:1137] Difference at 3: 6.22034, expected 5.43722\n",
      "2024-05-14 16:03:54.262483: E external/local_xla/xla/service/gpu/buffer_comparator.cc:1137] Difference at 4: 4.90026, expected 4.11714\n",
      "2024-05-14 16:03:54.262490: E external/local_xla/xla/service/gpu/buffer_comparator.cc:1137] Difference at 5: 5.21068, expected 4.42756\n",
      "2024-05-14 16:03:54.262498: E external/local_xla/xla/service/gpu/buffer_comparator.cc:1137] Difference at 6: 5.92061, expected 5.13748\n",
      "2024-05-14 16:03:54.262506: E external/local_xla/xla/service/gpu/buffer_comparator.cc:1137] Difference at 7: 5.34421, expected 4.56109\n",
      "2024-05-14 16:03:54.262513: E external/local_xla/xla/service/gpu/buffer_comparator.cc:1137] Difference at 8: 4.55002, expected 3.76689\n",
      "2024-05-14 16:03:54.262521: E external/local_xla/xla/service/gpu/buffer_comparator.cc:1137] Difference at 9: 5.10735, expected 4.32423\n",
      "2024-05-14 16:03:54.262536: E external/local_xla/xla/service/gpu/conv_algorithm_picker.cc:705] Results mismatch between different convolution algorithms. This is likely a bug/unexpected loss of precision in cudnn.\n",
      "(f32[1,64,224,224]{3,2,1,0}, u8[0]{0}) custom-call(f32[1,3,224,224]{3,2,1,0}, f32[64,3,3,3]{3,2,1,0}, f32[64]{0}), window={size=3x3 pad=1_1x1_1}, dim_labels=bf01_oi01->bf01, custom_call_target=\"__cudnn$convBiasActivationForward\", backend_config={\"conv_result_scale\":1,\"activation_mode\":\"kRelu\",\"side_input_scale\":0,\"leakyrelu_alpha\":0} for eng20{k2=1,k4=1,k5=1,k6=0,k7=0} vs eng15{k5=1,k6=0,k7=1,k10=1}\n",
      "2024-05-14 16:03:54.262543: E external/local_xla/xla/service/gpu/conv_algorithm_picker.cc:270] Device: Tesla P100-PCIE-16GB\n",
      "2024-05-14 16:03:54.262550: E external/local_xla/xla/service/gpu/conv_algorithm_picker.cc:271] Platform: Compute Capability 6.0\n",
      "2024-05-14 16:03:54.262557: E external/local_xla/xla/service/gpu/conv_algorithm_picker.cc:272] Driver: 12020 (535.129.3)\n",
      "2024-05-14 16:03:54.262563: E external/local_xla/xla/service/gpu/conv_algorithm_picker.cc:273] Runtime: <undefined>\n",
      "2024-05-14 16:03:54.262582: E external/local_xla/xla/service/gpu/conv_algorithm_picker.cc:280] cudnn version: 8.9.0\n",
      "2024-05-14 16:03:54.303678: E external/local_xla/xla/service/gpu/buffer_comparator.cc:1137] Difference at 0: 4.42855, expected 3.64542\n",
      "2024-05-14 16:03:54.303720: E external/local_xla/xla/service/gpu/buffer_comparator.cc:1137] Difference at 1: 5.87036, expected 5.08723\n",
      "2024-05-14 16:03:54.303729: E external/local_xla/xla/service/gpu/buffer_comparator.cc:1137] Difference at 2: 6.04003, expected 5.2569\n",
      "2024-05-14 16:03:54.303739: E external/local_xla/xla/service/gpu/buffer_comparator.cc:1137] Difference at 3: 6.22034, expected 5.43722\n",
      "2024-05-14 16:03:54.303747: E external/local_xla/xla/service/gpu/buffer_comparator.cc:1137] Difference at 4: 4.90026, expected 4.11714\n",
      "2024-05-14 16:03:54.303755: E external/local_xla/xla/service/gpu/buffer_comparator.cc:1137] Difference at 5: 5.21068, expected 4.42756\n",
      "2024-05-14 16:03:54.303763: E external/local_xla/xla/service/gpu/buffer_comparator.cc:1137] Difference at 6: 5.92061, expected 5.13748\n",
      "2024-05-14 16:03:54.303770: E external/local_xla/xla/service/gpu/buffer_comparator.cc:1137] Difference at 7: 5.34421, expected 4.56109\n",
      "2024-05-14 16:03:54.303779: E external/local_xla/xla/service/gpu/buffer_comparator.cc:1137] Difference at 8: 4.55002, expected 3.76689\n",
      "2024-05-14 16:03:54.303790: E external/local_xla/xla/service/gpu/buffer_comparator.cc:1137] Difference at 9: 5.10735, expected 4.32423\n",
      "2024-05-14 16:03:54.303819: E external/local_xla/xla/service/gpu/conv_algorithm_picker.cc:705] Results mismatch between different convolution algorithms. This is likely a bug/unexpected loss of precision in cudnn.\n",
      "(f32[1,64,224,224]{3,2,1,0}, u8[0]{0}) custom-call(f32[1,3,224,224]{3,2,1,0}, f32[64,3,3,3]{3,2,1,0}, f32[64]{0}), window={size=3x3 pad=1_1x1_1}, dim_labels=bf01_oi01->bf01, custom_call_target=\"__cudnn$convBiasActivationForward\", backend_config={\"conv_result_scale\":1,\"activation_mode\":\"kRelu\",\"side_input_scale\":0,\"leakyrelu_alpha\":0} for eng20{k2=1,k4=1,k5=1,k6=0,k7=0} vs eng15{k5=1,k6=0,k7=1,k10=1}\n",
      "2024-05-14 16:03:54.303838: E external/local_xla/xla/service/gpu/conv_algorithm_picker.cc:270] Device: Tesla P100-PCIE-16GB\n",
      "2024-05-14 16:03:54.303850: E external/local_xla/xla/service/gpu/conv_algorithm_picker.cc:271] Platform: Compute Capability 6.0\n",
      "2024-05-14 16:03:54.303860: E external/local_xla/xla/service/gpu/conv_algorithm_picker.cc:272] Driver: 12020 (535.129.3)\n",
      "2024-05-14 16:03:54.303871: E external/local_xla/xla/service/gpu/conv_algorithm_picker.cc:273] Runtime: <undefined>\n",
      "2024-05-14 16:03:54.303887: E external/local_xla/xla/service/gpu/conv_algorithm_picker.cc:280] cudnn version: 8.9.0\n"
     ]
    },
    {
     "name": "stdout",
     "output_type": "stream",
     "text": [
      "\u001b[1m1/1\u001b[0m \u001b[32m━━━━━━━━━━━━━━━━━━━━\u001b[0m\u001b[37m\u001b[0m \u001b[1m2s\u001b[0m 2s/step\n",
      "[[0. 0. 1. 0. 0. 0. 0. 0. 0. 0.]]\n",
      "Predicted class: Tomato___Late_blight\n",
      "Actual class: Tomato___Septoria_leaf_spot\n"
     ]
    }
   ],
   "source": [
    "import numpy as np\n",
    "import os\n",
    "from keras.preprocessing import image\n",
    "from keras.models import load_model\n",
    "\n",
    "image_path = \"/kaggle/input/tomatoleaf/tomato/val/Tomato___Septoria_leaf_spot/0a25f893-1b5f-4845-baa1-f68ac03d96ac___Matt.S_CG 7863.JPG\"\n",
    "\n",
    "# Extract the actual class label from the image path\n",
    "actual_class = os.path.basename(os.path.dirname(image_path))\n",
    "\n",
    "img_pred = image.load_img(image_path, target_size=(224,224))\n",
    "img_pred = image.img_to_array(img_pred)\n",
    "img_pred = np.expand_dims(img_pred, axis=0) # adding a dimension\n",
    "\n",
    "# Define the list of class labels\n",
    "class_labels = ['Tomato___Bacterial_spot', 'Tomato___Early_blight', 'Tomato___Late_blight', \n",
    "                'Tomato___Leaf_Mold', 'Tomato___Septoria_leaf_spot', 'Tomato___Spider_mites Two-spotted_spider_mite',\n",
    "                'Tomato___Target_Spot', 'Tomato___Tomato_Yellow_Leaf_Curl_Virus', 'Tomato___Tomato_mosaic_virus',\n",
    "                'Tomato___healthy']\n",
    "# passing the array to the model \n",
    "# vgg_model = load_model('/kaggle/working/vgg_model_tomato.h5')\n",
    "# reslt = vgg_model.predict(img_pred) # return a 2d array\n",
    "reslt = model.predict(img_pred)\n",
    "print(reslt)\n",
    "\n",
    "# Get the predicted class index\n",
    "predicted_class_index = np.argmax(reslt[0])\n",
    "\n",
    "# Print the predicted class\n",
    "predicted_class = class_labels[predicted_class_index]\n",
    "print(\"Predicted class:\", predicted_class)\n",
    "\n",
    "# Print the actual class\n",
    "print(\"Actual class:\", actual_class)"
   ]
  },
  {
   "cell_type": "code",
   "execution_count": null,
   "id": "f5065e28",
   "metadata": {
    "papermill": {
     "duration": 0.153716,
     "end_time": "2024-05-14T16:03:56.264040",
     "exception": false,
     "start_time": "2024-05-14T16:03:56.110324",
     "status": "completed"
    },
    "tags": []
   },
   "outputs": [],
   "source": []
  }
 ],
 "metadata": {
  "kaggle": {
   "accelerator": "gpu",
   "dataSources": [
    {
     "datasetId": 619181,
     "sourceId": 1105687,
     "sourceType": "datasetVersion"
    }
   ],
   "dockerImageVersionId": 30699,
   "isGpuEnabled": true,
   "isInternetEnabled": true,
   "language": "python",
   "sourceType": "notebook"
  },
  "kernelspec": {
   "display_name": "Python 3",
   "language": "python",
   "name": "python3"
  },
  "language_info": {
   "codemirror_mode": {
    "name": "ipython",
    "version": 3
   },
   "file_extension": ".py",
   "mimetype": "text/x-python",
   "name": "python",
   "nbconvert_exporter": "python",
   "pygments_lexer": "ipython3",
   "version": "3.10.13"
  },
  "papermill": {
   "default_parameters": {},
   "duration": 2269.199006,
   "end_time": "2024-05-14T16:03:58.647321",
   "environment_variables": {},
   "exception": null,
   "input_path": "__notebook__.ipynb",
   "output_path": "__notebook__.ipynb",
   "parameters": {},
   "start_time": "2024-05-14T15:26:09.448315",
   "version": "2.5.0"
  }
 },
 "nbformat": 4,
 "nbformat_minor": 5
}
